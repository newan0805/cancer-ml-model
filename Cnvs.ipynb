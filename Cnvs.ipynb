{
  "nbformat": 4,
  "nbformat_minor": 0,
  "metadata": {
    "colab": {
      "provenance": [],
      "authorship_tag": "ABX9TyMXPvAmqrwV3MspqM5RE0r6",
      "include_colab_link": true
    },
    "kernelspec": {
      "name": "python3",
      "display_name": "Python 3"
    },
    "language_info": {
      "name": "python"
    }
  },
  "cells": [
    {
      "cell_type": "markdown",
      "metadata": {
        "id": "view-in-github",
        "colab_type": "text"
      },
      "source": [
        "<a href=\"https://colab.research.google.com/github/newan0805/cancer-ml-model/blob/main/Cnvs.ipynb\" target=\"_parent\"><img src=\"https://colab.research.google.com/assets/colab-badge.svg\" alt=\"Open In Colab\"/></a>"
      ]
    },
    {
      "cell_type": "markdown",
      "source": [
        "Making the dataset file to a variable to access the arrayed datas."
      ],
      "metadata": {
        "id": "oFwLKPAfxIrM"
      }
    },
    {
      "cell_type": "code",
      "execution_count": 25,
      "metadata": {
        "id": "Upj9CpfBrGx8"
      },
      "outputs": [],
      "source": [
        "# importing pandas to read the dataset in csv.\n",
        "import pandas as pd\n",
        "\n",
        "# imported file directing to a variable.\n",
        "dataset = pd.read_csv('cancer.csv')"
      ]
    },
    {
      "cell_type": "markdown",
      "source": [
        "Need to define spesific needed datas to variables as prefered to access."
      ],
      "metadata": {
        "id": "I-liusO-w7QE"
      }
    },
    {
      "cell_type": "code",
      "source": [
        "# defining x axis datas as x variable.\n",
        "x = dataset.drop(columns=['diagnosis(1=m, 0=b)'])"
      ],
      "metadata": {
        "id": "6hJ8HJWmsUDG"
      },
      "execution_count": 26,
      "outputs": []
    },
    {
      "cell_type": "code",
      "source": [
        "# defining y axis datas as y variable.\n",
        "y = dataset['diagnosis(1=m, 0=b)']"
      ],
      "metadata": {
        "id": "Hn8-kY3QtMp9"
      },
      "execution_count": 27,
      "outputs": []
    },
    {
      "cell_type": "markdown",
      "source": [
        "Take *train_test_split* library to access and split data as we want and access the all the data."
      ],
      "metadata": {
        "id": "-cNgP-E5xiku"
      }
    },
    {
      "cell_type": "code",
      "source": [
        "# import train_test_split from sklearn.\n",
        "from sklearn.model_selection import train_test_split\n",
        "\n",
        "# defining necessory variables to use for the model.\n",
        "x_train, x_test, y_train, y_test = train_test_split(x, y, test_size=0.2)"
      ],
      "metadata": {
        "id": "5lXoJYPFtgrR"
      },
      "execution_count": 28,
      "outputs": []
    },
    {
      "cell_type": "markdown",
      "source": [
        "Take *tensorflow* library and *keras* to access models in sequential mode."
      ],
      "metadata": {
        "id": "RAeNNtyRx-36"
      }
    },
    {
      "cell_type": "code",
      "source": [
        "# import tensorflow as 'tf'.\n",
        "import tensorflow as tf\n",
        "\n",
        "# defining a variable for a model and to take data in a sequentially. \n",
        "model = tf.keras.models.Sequential()"
      ],
      "metadata": {
        "id": "HlyLtW7MuLxv"
      },
      "execution_count": 24,
      "outputs": []
    },
    {
      "cell_type": "markdown",
      "source": [
        "Addding to tf keras and assigning a dense to set prorities and giving inputs to the model. To analize data use [Sigmoid](https://en.wikipedia.org/wiki/Sigmoid_function) to simplify the all predictions."
      ],
      "metadata": {
        "id": "-0wn2YGA0FPu"
      }
    },
    {
      "cell_type": "code",
      "source": [
        "# adding to model and set inputs.\n",
        "model.add(tf.keras.layers.Dense(256, input_shape=x_train.shape, activation='sigmoid'))\n",
        "\n",
        "# again assigning to use the sigmoid with a dense.\n",
        "model.add(tf.keras.layers.Dense(256, activation='sigmoid'))\n",
        "\n",
        "# lowing dense and saying sigmoid to analyze the finals.\n",
        "model.add(tf.keras.layers.Dense(1, activation='sigmoid'))"
      ],
      "metadata": {
        "id": "CJb8dWPYulf7"
      },
      "execution_count": 32,
      "outputs": []
    },
    {
      "cell_type": "markdown",
      "source": [
        "Compile the model and use *metrics* and *optimizer* to fine the output and make a priority phase."
      ],
      "metadata": {
        "id": "p6MN7LZW5A8t"
      }
    },
    {
      "cell_type": "code",
      "source": [
        "# compiling the model using an optimizer and metrics.\n",
        "model.compile(optimizer='adam', loss='binary_crossentropy', metrics=['accuracy'])"
      ],
      "metadata": {
        "id": "VD6H-J03vb_l"
      },
      "execution_count": 18,
      "outputs": []
    },
    {
      "cell_type": "markdown",
      "source": [
        "Set trains to model and fit the *x_train* and *y_train* and use [epochs](https://deepai.org/machine-learning-glossary-and-terms/epoch) to make how many turns the predictions have to be done. And evaluvating the final putput to get a fine readable output."
      ],
      "metadata": {
        "id": "_8-0cwaO2zFk"
      }
    },
    {
      "cell_type": "code",
      "source": [
        "# set data with the model \n",
        "model.fit(x_train, y_train, epochs = 1000)"
      ],
      "metadata": {
        "id": "tGKMaYxEwDDS"
      },
      "execution_count": null,
      "outputs": []
    },
    {
      "cell_type": "code",
      "source": [
        "# evaluating the output datasets to simply and final answer.\n",
        "model.evaluate(x_test, y_test)"
      ],
      "metadata": {
        "id": "oUk7HYPawhn3"
      },
      "execution_count": null,
      "outputs": []
    }
  ]
}